{
 "cells": [
  {
   "cell_type": "code",
   "execution_count": 2,
   "metadata": {},
   "outputs": [],
   "source": [
    "import time as time_lib\n",
    "import pprint\n",
    "import pathlib\n",
    "import operator\n",
    "import pandas as pd\n",
    "\n",
    "from datetime import datetime\n",
    "from datetime import timedelta\n",
    "from configparser import ConfigParser\n",
    "\n",
    "from pyrobot.robot import PyRobot\n",
    "from pyrobot.indicator import Indicators"
   ]
  },
  {
   "cell_type": "code",
   "execution_count": 5,
   "metadata": {},
   "outputs": [
    {
     "name": "stdout",
     "output_type": "stream",
     "text": [
      "Grabbing new refresh token...\n",
      "Grabbing new access token...\n"
     ]
    }
   ],
   "source": [
    "# Grab configuration values.\n",
    "config = ConfigParser()\n",
    "config.read('configs/config.ini')\n",
    "\n",
    "CLIENT_ID = config.get('main', 'CLIENT_ID')\n",
    "REDIRECT_URI = config.get('main', 'REDIRECT_URI')\n",
    "CREDENTIALS_PATH = config.get('main', 'JSON_PATH')\n",
    "# ACCOUNT_NUMBER = config.get('main', 'ACCOUNT_NUMBER')\n",
    "\n",
    "# Initalize the robot.\n",
    "trading_robot = PyRobot(\n",
    "    client_id=CLIENT_ID,\n",
    "    redirect_uri=REDIRECT_URI,\n",
    "    credentials_path=CREDENTIALS_PATH,\n",
    "    paper_trading=True\n",
    ")\n"
   ]
  },
  {
   "cell_type": "code",
   "execution_count": 6,
   "metadata": {},
   "outputs": [],
   "source": [
    "# Create a Portfolio\n",
    "trading_robot_portfolio = trading_robot.create_portfolio()\n",
    "\n",
    "# Define mutliple positions to add.\n",
    "multi_position = [\n",
    "    {\n",
    "        'asset_type': 'equity',\n",
    "        'quantity': 2,\n",
    "        'purchase_price': 4.00,\n",
    "        'symbol': 'TSLA',\n",
    "        'purchase_date': '2020-01-31'\n",
    "    },\n",
    "    {\n",
    "        'asset_type': 'equity',\n",
    "        'quantity': 2,\n",
    "        'purchase_price': 4.00,\n",
    "        'symbol': 'SQ',\n",
    "        'purchase_date': '2020-01-31'\n",
    "    }\n",
    "]\n"
   ]
  },
  {
   "cell_type": "code",
   "execution_count": 7,
   "metadata": {},
   "outputs": [
    {
     "name": "stdout",
     "output_type": "stream",
     "text": [
      "{'SQ': {'asset_type': 'equity',\n",
      "        'ownership_status': True,\n",
      "        'purchase_date': '2020-01-31',\n",
      "        'purchase_price': 4.0,\n",
      "        'quantity': 2,\n",
      "        'symbol': 'SQ'},\n",
      " 'TSLA': {'asset_type': 'equity',\n",
      "          'ownership_status': True,\n",
      "          'purchase_date': '2020-01-31',\n",
      "          'purchase_price': 4.0,\n",
      "          'quantity': 2,\n",
      "          'symbol': 'TSLA'}}\n"
     ]
    }
   ],
   "source": [
    "# Grab the New positions\n",
    "new_positions = trading_robot.portfolio.add_positions(positions=multi_position)\n",
    "pprint.pprint(new_positions)"
   ]
  },
  {
   "cell_type": "code",
   "execution_count": 9,
   "metadata": {},
   "outputs": [],
   "source": [
    "# If the Market is open, print some quotes.\n",
    "if trading_robot.pre_market_open or trading_robot.regular_market_open or trading_robot.post_market_open:\n",
    "    pprint.pprint(trading_robot.grab_current_quotes())\n"
   ]
  },
  {
   "cell_type": "code",
   "execution_count": null,
   "metadata": {},
   "outputs": [],
   "source": [
    "# Add a single position\n",
    "trading_robot_portfolio.add_position(\n",
    "    symbol='MSFT',\n",
    "    quantity=10,\n",
    "    purchase_price=10,\n",
    "    asset_type='equity',\n",
    "    purchase_date='2020-04-01'\n",
    ")\n",
    "\n",
    "# Add another single position\n",
    "trading_robot_portfolio.add_position(\n",
    "    symbol='AAPL',\n",
    "    quantity=10,\n",
    "    purchase_price=10,\n",
    "    asset_type='equity',\n",
    "    purchase_date='2020-04-01'\n",
    ")\n",
    "\n",
    "# Print the Positions\n",
    "pprint.pprint(trading_robot_portfolio.positions)"
   ]
  },
  {
   "cell_type": "code",
   "execution_count": null,
   "metadata": {},
   "outputs": [],
   "source": [
    "# Grab the current quotes, for all of our positions.\n",
    "current_quotes = trading_robot.grab_current_quotes()\n",
    "\n",
    "# Print the Quotes.\n",
    "pprint.pprint(current_quotes)"
   ]
  },
  {
   "cell_type": "code",
   "execution_count": null,
   "metadata": {},
   "outputs": [],
   "source": [
    "# Let's see if our Microsoft Position is profitable.\n",
    "is_msft_porfitable = trading_robot.portfolio.is_profitable(\n",
    "    symbol=\"MSFT\",\n",
    "    current_price=current_quotes['MSFT']['lastPrice']\n",
    ")\n",
    "print(\"Is Microsoft Profitable: {answer}\".format(answer=is_msft_porfitable))"
   ]
  },
  {
   "cell_type": "code",
   "execution_count": null,
   "metadata": {},
   "outputs": [],
   "source": [
    "# Let's get the projected Market Value.\n",
    "portfolio_summary = trading_robot.portfolio.projected_market_value(\n",
    "    current_prices=current_quotes\n",
    ")\n",
    "pprint.pprint(portfolio_summary)"
   ]
  },
  {
   "cell_type": "code",
   "execution_count": null,
   "metadata": {},
   "outputs": [],
   "source": [
    "# Create a new Trade Object.\n",
    "new_trade = trading_robot.create_trade(\n",
    "    trade_id='long_msft',\n",
    "    enter_or_exit='enter',\n",
    "    long_or_short='short',\n",
    "    order_type='lmt',\n",
    "    price=150.00\n",
    ")\n",
    "\n",
    "# Make it Good Till Cancel.\n",
    "new_trade.good_till_cancel(cancel_time=datetime.now())\n",
    "\n",
    "# Change the session\n",
    "new_trade.modify_session(session='am')\n",
    "\n",
    "# Add an Order Leg.\n",
    "new_trade.instrument(\n",
    "    symbol='MSFT',\n",
    "    quantity=2,\n",
    "    asset_type='EQUITY'\n",
    ")\n",
    "\n",
    "# Add a Stop Loss Order with the Main Order.\n",
    "new_trade.add_stop_loss(\n",
    "    stop_size=.10,\n",
    "    percentage=False\n",
    ")\n",
    "\n",
    "# Print out the order.\n",
    "pprint.pprint(new_trade.order)"
   ]
  },
  {
   "cell_type": "code",
   "execution_count": null,
   "metadata": {},
   "outputs": [],
   "source": [
    "# Grab historical prices, first define the start date and end date.\n",
    "start_date = datetime.today()\n",
    "end_date = start_date - timedelta(days=30)\n",
    "\n",
    "# Grab the historical prices.\n",
    "historical_prices = trading_robot.grab_historical_prices(\n",
    "    start=end_date,\n",
    "    end=start_date,\n",
    "    bar_size=1,\n",
    "    bar_type='minute'\n",
    ")\n",
    "\n",
    "# Convert data to a Data Frame.\n",
    "stock_frame = trading_robot.create_stock_frame(\n",
    "    data=historical_prices['aggregated']\n",
    ")\n",
    "\n",
    "# We can also add the stock frame to the Portfolio object.\n",
    "trading_robot.portfolio.stock_frame = stock_frame\n",
    "\n",
    "# Additionally the historical prices can be set as well.\n",
    "trading_robot.portfolio.historical_prices = historical_prices"
   ]
  },
  {
   "cell_type": "code",
   "execution_count": null,
   "metadata": {},
   "outputs": [],
   "source": [
    "# Portfolio Variance\n",
    "pprint.pprint(trading_robot.portfolio.portfolio_metrics())"
   ]
  },
  {
   "cell_type": "code",
   "execution_count": null,
   "metadata": {},
   "outputs": [],
   "source": [
    "# Create an indicator Object.\n",
    "indicator_client = Indicators(price_data_frame=stock_frame)\n",
    "\n",
    "# Add the RSI Indicator.\n",
    "indicator_client.rsi(period=14)\n",
    "\n",
    "# Add the 200 day simple moving average.\n",
    "indicator_client.sma(period=200)\n",
    "\n",
    "# Add the 200 day simple moving average.\n",
    "indicator_client.sma(period=50)\n",
    "\n",
    "# Add the 50 day exponentials moving average.\n",
    "indicator_client.ema(period=50)\n",
    "\n",
    "# Add a signal to check for.\n",
    "indicator_client.set_indicator_signal(\n",
    "    indicator='rsi',\n",
    "    buy=40.0,\n",
    "    sell=20.0,\n",
    "    condition_buy=operator.ge,\n",
    "    condition_sell=operator.le\n",
    ")\n"
   ]
  },
  {
   "cell_type": "code",
   "execution_count": null,
   "metadata": {},
   "outputs": [],
   "source": [
    "# Define a trading dictionary.\n",
    "trades_dict = {\n",
    "    'MSFT': {\n",
    "        'trade_func': trading_robot.trades['long_msft'],\n",
    "        'trade_id': trading_robot.trades['long_msft'].trade_id\n",
    "    }\n",
    "}"
   ]
  },
  {
   "cell_type": "code",
   "execution_count": null,
   "metadata": {},
   "outputs": [],
   "source": [
    "while True:\n",
    "\n",
    "    # Grab the latest bar.\n",
    "    latest_bars = trading_robot.get_latest_bar()\n",
    "\n",
    "    # Add to the Stock Frame.\n",
    "    stock_frame.add_rows(data=latest_bars)\n",
    "\n",
    "    # Refresh the Indicators.\n",
    "    indicator_client.refresh()\n",
    "\n",
    "    print(\"=\"*50)\n",
    "    print(\"Current StockFrame\")\n",
    "    print(\"-\"*50)\n",
    "    print(stock_frame.symbol_groups.tail())\n",
    "    print(\"-\"*50)\n",
    "    print(\"\")\n",
    "\n",
    "    # Check for signals.\n",
    "    signals = indicator_client.check_signals()\n",
    "\n",
    "    # Execute Trades.\n",
    "    trading_robot.execute_signals(\n",
    "        signals=signals,\n",
    "        trades_to_execute=trades_dict\n",
    "    )\n",
    "\n",
    "    # Grab the last bar.\n",
    "    last_bar_timestamp = trading_robot.stock_frame.frame.tail(\n",
    "        n=1\n",
    "    ).index.get_level_values(1)\n",
    "\n",
    "    # Wait till the next bar.\n",
    "    trading_robot.wait_till_next_bar(last_bar_timestamp=last_bar_timestamp)"
   ]
  }
 ],
 "metadata": {
  "kernelspec": {
   "display_name": "Python 3",
   "language": "python",
   "name": "python3"
  },
  "language_info": {
   "codemirror_mode": {
    "name": "ipython",
    "version": 3
   },
   "file_extension": ".py",
   "mimetype": "text/x-python",
   "name": "python",
   "nbconvert_exporter": "python",
   "pygments_lexer": "ipython3",
   "version": "3.8.6"
  }
 },
 "nbformat": 4,
 "nbformat_minor": 4
}

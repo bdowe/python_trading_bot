{
 "cells": [
  {
   "cell_type": "code",
   "execution_count": 4,
   "metadata": {},
   "outputs": [],
   "source": [
    "import os\n",
    "import sys\n",
    "sys.path.append(os.path.abspath(\"/app\"))\n",
    "\n",
    "import time as time_lib\n",
    "import pprint\n",
    "import pathlib\n",
    "import operator\n",
    "import pandas as pd\n",
    "\n",
    "from datetime import datetime\n",
    "from datetime import timedelta\n",
    "from configparser import ConfigParser\n",
    "\n",
    "from pyrobot.robot import PyRobot\n",
    "from pyrobot.indicator import Indicators"
   ]
  },
  {
   "cell_type": "code",
   "execution_count": 7,
   "metadata": {},
   "outputs": [],
   "source": [
    "# Grab configuration values.\n",
    "from configs.config import client_id, redirect_uri, json_path\n",
    "\n",
    "# CLIENT_ID = config.get('main', 'CLIENT_ID')\n",
    "# REDIRECT_URI = config.get('main', 'REDIRECT_URI')\n",
    "# CREDENTIALS_PATH = config.get('main', 'JSON_PATH')\n",
    "# ACCOUNT_NUMBER = config.get('main', 'ACCOUNT_NUMBER')"
   ]
  },
  {
   "cell_type": "code",
   "execution_count": 8,
   "metadata": {},
   "outputs": [
    {
     "name": "stdout",
     "output_type": "stream",
     "text": [
      "Grabbing new refresh token...\n",
      "Grabbing new access token...\n"
     ]
    },
    {
     "data": {
      "text/plain": [
       "True"
      ]
     },
     "execution_count": 8,
     "metadata": {},
     "output_type": "execute_result"
    }
   ],
   "source": [
    "from td.client import TDClient\n",
    "\n",
    "td_client = TDClient(\n",
    "    client_id=client_id,\n",
    "    redirect_uri=redirect_uri,\n",
    "    credentials_path=json_path\n",
    ")\n",
    "\n",
    "td_client.login()"
   ]
  },
  {
   "cell_type": "code",
   "execution_count": 10,
   "metadata": {},
   "outputs": [
    {
     "name": "stdout",
     "output_type": "stream",
     "text": [
      "Grabbing new refresh token...\n",
      "Grabbing new access token...\n"
     ]
    }
   ],
   "source": [
    "# Initalize the robot.\n",
    "trading_robot = PyRobot(\n",
    "    client_id=client_id,\n",
    "    redirect_uri=redirect_uri,\n",
    "    credentials_path=json_path,\n",
    "    paper_trading=True\n",
    ")"
   ]
  },
  {
   "cell_type": "code",
   "execution_count": 11,
   "metadata": {},
   "outputs": [],
   "source": [
    "# Create a Portfolio\n",
    "trading_robot_portfolio = trading_robot.create_portfolio()\n",
    "\n",
    "# Define mutliple positions to add.\n",
    "multi_position = [\n",
    "    {\n",
    "        'asset_type': 'equity',\n",
    "        'quantity': 2,\n",
    "        'purchase_price': 4.00,\n",
    "        'symbol': 'TSLA',\n",
    "        'purchase_date': '2020-01-31'\n",
    "    },\n",
    "    {\n",
    "        'asset_type': 'equity',\n",
    "        'quantity': 2,\n",
    "        'purchase_price': 4.00,\n",
    "        'symbol': 'SQ',\n",
    "        'purchase_date': '2020-01-31'\n",
    "    }\n",
    "]\n"
   ]
  },
  {
   "cell_type": "code",
   "execution_count": 12,
   "metadata": {},
   "outputs": [
    {
     "name": "stdout",
     "output_type": "stream",
     "text": [
      "{'SQ': {'asset_type': 'equity',\n",
      "        'ownership_status': True,\n",
      "        'purchase_date': '2020-01-31',\n",
      "        'purchase_price': 4.0,\n",
      "        'quantity': 2,\n",
      "        'symbol': 'SQ'},\n",
      " 'TSLA': {'asset_type': 'equity',\n",
      "          'ownership_status': True,\n",
      "          'purchase_date': '2020-01-31',\n",
      "          'purchase_price': 4.0,\n",
      "          'quantity': 2,\n",
      "          'symbol': 'TSLA'}}\n"
     ]
    }
   ],
   "source": [
    "# Grab the New positions\n",
    "new_positions = trading_robot.portfolio.add_positions(positions=multi_position)\n",
    "pprint.pprint(new_positions)"
   ]
  },
  {
   "cell_type": "code",
   "execution_count": 13,
   "metadata": {},
   "outputs": [
    {
     "name": "stdout",
     "output_type": "stream",
     "text": [
      "Grabbing new refresh token...\n",
      "Grabbing new access token...\n"
     ]
    },
    {
     "ename": "TknExpError",
     "evalue": "{\"error\":\"Not Authorized.\"}",
     "output_type": "error",
     "traceback": [
      "\u001b[0;31m---------------------------------------------------------------------------\u001b[0m",
      "\u001b[0;31mTknExpError\u001b[0m                               Traceback (most recent call last)",
      "\u001b[0;32m<ipython-input-13-a0e97c9d52cc>\u001b[0m in \u001b[0;36m<module>\u001b[0;34m\u001b[0m\n\u001b[1;32m      1\u001b[0m \u001b[0;31m# If the Market is open, print some quotes.\u001b[0m\u001b[0;34m\u001b[0m\u001b[0;34m\u001b[0m\u001b[0;34m\u001b[0m\u001b[0m\n\u001b[1;32m      2\u001b[0m \u001b[0;32mif\u001b[0m \u001b[0mtrading_robot\u001b[0m\u001b[0;34m.\u001b[0m\u001b[0mpre_market_open\u001b[0m \u001b[0;32mor\u001b[0m \u001b[0mtrading_robot\u001b[0m\u001b[0;34m.\u001b[0m\u001b[0mregular_market_open\u001b[0m \u001b[0;32mor\u001b[0m \u001b[0mtrading_robot\u001b[0m\u001b[0;34m.\u001b[0m\u001b[0mpost_market_open\u001b[0m\u001b[0;34m:\u001b[0m\u001b[0;34m\u001b[0m\u001b[0;34m\u001b[0m\u001b[0m\n\u001b[0;32m----> 3\u001b[0;31m     \u001b[0mpprint\u001b[0m\u001b[0;34m.\u001b[0m\u001b[0mpprint\u001b[0m\u001b[0;34m(\u001b[0m\u001b[0mtrading_robot\u001b[0m\u001b[0;34m.\u001b[0m\u001b[0mgrab_current_quotes\u001b[0m\u001b[0;34m(\u001b[0m\u001b[0;34m)\u001b[0m\u001b[0;34m)\u001b[0m\u001b[0;34m\u001b[0m\u001b[0;34m\u001b[0m\u001b[0m\n\u001b[0m",
      "\u001b[0;32m/app/pyrobot/robot.py\u001b[0m in \u001b[0;36mgrab_current_quotes\u001b[0;34m(self)\u001b[0m\n\u001b[1;32m    383\u001b[0m \u001b[0;34m\u001b[0m\u001b[0m\n\u001b[1;32m    384\u001b[0m         \u001b[0;31m# Grab the quotes.\u001b[0m\u001b[0;34m\u001b[0m\u001b[0;34m\u001b[0m\u001b[0;34m\u001b[0m\u001b[0m\n\u001b[0;32m--> 385\u001b[0;31m         \u001b[0mquotes\u001b[0m \u001b[0;34m=\u001b[0m \u001b[0mself\u001b[0m\u001b[0;34m.\u001b[0m\u001b[0msession\u001b[0m\u001b[0;34m.\u001b[0m\u001b[0mget_quotes\u001b[0m\u001b[0;34m(\u001b[0m\u001b[0minstruments\u001b[0m\u001b[0;34m=\u001b[0m\u001b[0mlist\u001b[0m\u001b[0;34m(\u001b[0m\u001b[0msymbols\u001b[0m\u001b[0;34m)\u001b[0m\u001b[0;34m)\u001b[0m\u001b[0;34m\u001b[0m\u001b[0;34m\u001b[0m\u001b[0m\n\u001b[0m\u001b[1;32m    386\u001b[0m \u001b[0;34m\u001b[0m\u001b[0m\n\u001b[1;32m    387\u001b[0m         \u001b[0;32mreturn\u001b[0m \u001b[0mquotes\u001b[0m\u001b[0;34m\u001b[0m\u001b[0;34m\u001b[0m\u001b[0m\n",
      "\u001b[0;32m/usr/local/lib/python3.8/site-packages/td/client.py\u001b[0m in \u001b[0;36mget_quotes\u001b[0;34m(self, instruments)\u001b[0m\n\u001b[1;32m    730\u001b[0m \u001b[0;34m\u001b[0m\u001b[0m\n\u001b[1;32m    731\u001b[0m         \u001b[0;31m# return the response of the get request.\u001b[0m\u001b[0;34m\u001b[0m\u001b[0;34m\u001b[0m\u001b[0;34m\u001b[0m\u001b[0m\n\u001b[0;32m--> 732\u001b[0;31m         \u001b[0;32mreturn\u001b[0m \u001b[0mself\u001b[0m\u001b[0;34m.\u001b[0m\u001b[0m_make_request\u001b[0m\u001b[0;34m(\u001b[0m\u001b[0mmethod\u001b[0m\u001b[0;34m=\u001b[0m\u001b[0;34m'get'\u001b[0m\u001b[0;34m,\u001b[0m \u001b[0mendpoint\u001b[0m\u001b[0;34m=\u001b[0m\u001b[0mendpoint\u001b[0m\u001b[0;34m,\u001b[0m \u001b[0mparams\u001b[0m\u001b[0;34m=\u001b[0m\u001b[0mparams\u001b[0m\u001b[0;34m)\u001b[0m\u001b[0;34m\u001b[0m\u001b[0;34m\u001b[0m\u001b[0m\n\u001b[0m\u001b[1;32m    733\u001b[0m \u001b[0;34m\u001b[0m\u001b[0m\n\u001b[1;32m    734\u001b[0m     def get_price_history(self, symbol: str, period_type:str = None, period: str = None, start_date:str = None, end_date:str = None,\n",
      "\u001b[0;32m/usr/local/lib/python3.8/site-packages/td/client.py\u001b[0m in \u001b[0;36m_make_request\u001b[0;34m(self, method, endpoint, mode, params, data, json, order_details)\u001b[0m\n\u001b[1;32m    604\u001b[0m                 \u001b[0;32mraise\u001b[0m \u001b[0mNotNulError\u001b[0m\u001b[0;34m(\u001b[0m\u001b[0mmessage\u001b[0m\u001b[0;34m=\u001b[0m\u001b[0mresponse\u001b[0m\u001b[0;34m.\u001b[0m\u001b[0mtext\u001b[0m\u001b[0;34m)\u001b[0m\u001b[0;34m\u001b[0m\u001b[0;34m\u001b[0m\u001b[0m\n\u001b[1;32m    605\u001b[0m             \u001b[0;32melif\u001b[0m \u001b[0mresponse\u001b[0m\u001b[0;34m.\u001b[0m\u001b[0mstatus_code\u001b[0m \u001b[0;34m==\u001b[0m \u001b[0;36m401\u001b[0m\u001b[0;34m:\u001b[0m\u001b[0;34m\u001b[0m\u001b[0;34m\u001b[0m\u001b[0m\n\u001b[0;32m--> 606\u001b[0;31m                 \u001b[0;32mraise\u001b[0m \u001b[0mTknExpError\u001b[0m\u001b[0;34m(\u001b[0m\u001b[0mmessage\u001b[0m\u001b[0;34m=\u001b[0m\u001b[0mresponse\u001b[0m\u001b[0;34m.\u001b[0m\u001b[0mtext\u001b[0m\u001b[0;34m)\u001b[0m\u001b[0;34m\u001b[0m\u001b[0;34m\u001b[0m\u001b[0m\n\u001b[0m\u001b[1;32m    607\u001b[0m             \u001b[0;32melif\u001b[0m \u001b[0mresponse\u001b[0m\u001b[0;34m.\u001b[0m\u001b[0mstatus_code\u001b[0m \u001b[0;34m==\u001b[0m \u001b[0;36m403\u001b[0m\u001b[0;34m:\u001b[0m\u001b[0;34m\u001b[0m\u001b[0;34m\u001b[0m\u001b[0m\n\u001b[1;32m    608\u001b[0m                 \u001b[0;32mraise\u001b[0m \u001b[0mForbidError\u001b[0m\u001b[0;34m(\u001b[0m\u001b[0mmessage\u001b[0m\u001b[0;34m=\u001b[0m\u001b[0mresponse\u001b[0m\u001b[0;34m.\u001b[0m\u001b[0mtext\u001b[0m\u001b[0;34m)\u001b[0m\u001b[0;34m\u001b[0m\u001b[0;34m\u001b[0m\u001b[0m\n",
      "\u001b[0;31mTknExpError\u001b[0m: {\"error\":\"Not Authorized.\"}"
     ]
    }
   ],
   "source": [
    "# If the Market is open, print some quotes.\n",
    "if trading_robot.pre_market_open or trading_robot.regular_market_open or trading_robot.post_market_open:\n",
    "    pprint.pprint(trading_robot.grab_current_quotes())\n"
   ]
  },
  {
   "cell_type": "code",
   "execution_count": 14,
   "metadata": {},
   "outputs": [
    {
     "name": "stdout",
     "output_type": "stream",
     "text": [
      "{'AAPL': {'asset_type': 'equity',\n",
      "          'ownership_status': True,\n",
      "          'purchase_date': '2020-04-01',\n",
      "          'purchase_price': 10,\n",
      "          'quantity': 10,\n",
      "          'symbol': 'AAPL'},\n",
      " 'MSFT': {'asset_type': 'equity',\n",
      "          'ownership_status': True,\n",
      "          'purchase_date': '2020-04-01',\n",
      "          'purchase_price': 10,\n",
      "          'quantity': 10,\n",
      "          'symbol': 'MSFT'},\n",
      " 'SQ': {'asset_type': 'equity',\n",
      "        'ownership_status': True,\n",
      "        'purchase_date': '2020-01-31',\n",
      "        'purchase_price': 4.0,\n",
      "        'quantity': 2,\n",
      "        'symbol': 'SQ'},\n",
      " 'TSLA': {'asset_type': 'equity',\n",
      "          'ownership_status': True,\n",
      "          'purchase_date': '2020-01-31',\n",
      "          'purchase_price': 4.0,\n",
      "          'quantity': 2,\n",
      "          'symbol': 'TSLA'}}\n"
     ]
    }
   ],
   "source": [
    "# Add a single position\n",
    "trading_robot_portfolio.add_position(\n",
    "    symbol='MSFT',\n",
    "    quantity=10,\n",
    "    purchase_price=10,\n",
    "    asset_type='equity',\n",
    "    purchase_date='2020-04-01'\n",
    ")\n",
    "\n",
    "# Add another single position\n",
    "trading_robot_portfolio.add_position(\n",
    "    symbol='AAPL',\n",
    "    quantity=10,\n",
    "    purchase_price=10,\n",
    "    asset_type='equity',\n",
    "    purchase_date='2020-04-01'\n",
    ")\n",
    "\n",
    "# Print the Positions\n",
    "pprint.pprint(trading_robot_portfolio.positions)"
   ]
  },
  {
   "cell_type": "code",
   "execution_count": 15,
   "metadata": {},
   "outputs": [
    {
     "name": "stdout",
     "output_type": "stream",
     "text": [
      "Grabbing new refresh token...\n",
      "Grabbing new access token...\n"
     ]
    },
    {
     "ename": "TknExpError",
     "evalue": "{\"error\":\"Not Authorized.\"}",
     "output_type": "error",
     "traceback": [
      "\u001b[0;31m---------------------------------------------------------------------------\u001b[0m",
      "\u001b[0;31mTknExpError\u001b[0m                               Traceback (most recent call last)",
      "\u001b[0;32m<ipython-input-15-841a5232643a>\u001b[0m in \u001b[0;36m<module>\u001b[0;34m\u001b[0m\n\u001b[1;32m      1\u001b[0m \u001b[0;31m# Grab the current quotes, for all of our positions.\u001b[0m\u001b[0;34m\u001b[0m\u001b[0;34m\u001b[0m\u001b[0;34m\u001b[0m\u001b[0m\n\u001b[0;32m----> 2\u001b[0;31m \u001b[0mcurrent_quotes\u001b[0m \u001b[0;34m=\u001b[0m \u001b[0mtrading_robot\u001b[0m\u001b[0;34m.\u001b[0m\u001b[0mgrab_current_quotes\u001b[0m\u001b[0;34m(\u001b[0m\u001b[0;34m)\u001b[0m\u001b[0;34m\u001b[0m\u001b[0;34m\u001b[0m\u001b[0m\n\u001b[0m\u001b[1;32m      3\u001b[0m \u001b[0;34m\u001b[0m\u001b[0m\n\u001b[1;32m      4\u001b[0m \u001b[0;31m# Print the Quotes.\u001b[0m\u001b[0;34m\u001b[0m\u001b[0;34m\u001b[0m\u001b[0;34m\u001b[0m\u001b[0m\n\u001b[1;32m      5\u001b[0m \u001b[0mpprint\u001b[0m\u001b[0;34m.\u001b[0m\u001b[0mpprint\u001b[0m\u001b[0;34m(\u001b[0m\u001b[0mcurrent_quotes\u001b[0m\u001b[0;34m)\u001b[0m\u001b[0;34m\u001b[0m\u001b[0;34m\u001b[0m\u001b[0m\n",
      "\u001b[0;32m/app/pyrobot/robot.py\u001b[0m in \u001b[0;36mgrab_current_quotes\u001b[0;34m(self)\u001b[0m\n\u001b[1;32m    383\u001b[0m \u001b[0;34m\u001b[0m\u001b[0m\n\u001b[1;32m    384\u001b[0m         \u001b[0;31m# Grab the quotes.\u001b[0m\u001b[0;34m\u001b[0m\u001b[0;34m\u001b[0m\u001b[0;34m\u001b[0m\u001b[0m\n\u001b[0;32m--> 385\u001b[0;31m         \u001b[0mquotes\u001b[0m \u001b[0;34m=\u001b[0m \u001b[0mself\u001b[0m\u001b[0;34m.\u001b[0m\u001b[0msession\u001b[0m\u001b[0;34m.\u001b[0m\u001b[0mget_quotes\u001b[0m\u001b[0;34m(\u001b[0m\u001b[0minstruments\u001b[0m\u001b[0;34m=\u001b[0m\u001b[0mlist\u001b[0m\u001b[0;34m(\u001b[0m\u001b[0msymbols\u001b[0m\u001b[0;34m)\u001b[0m\u001b[0;34m)\u001b[0m\u001b[0;34m\u001b[0m\u001b[0;34m\u001b[0m\u001b[0m\n\u001b[0m\u001b[1;32m    386\u001b[0m \u001b[0;34m\u001b[0m\u001b[0m\n\u001b[1;32m    387\u001b[0m         \u001b[0;32mreturn\u001b[0m \u001b[0mquotes\u001b[0m\u001b[0;34m\u001b[0m\u001b[0;34m\u001b[0m\u001b[0m\n",
      "\u001b[0;32m/usr/local/lib/python3.8/site-packages/td/client.py\u001b[0m in \u001b[0;36mget_quotes\u001b[0;34m(self, instruments)\u001b[0m\n\u001b[1;32m    730\u001b[0m \u001b[0;34m\u001b[0m\u001b[0m\n\u001b[1;32m    731\u001b[0m         \u001b[0;31m# return the response of the get request.\u001b[0m\u001b[0;34m\u001b[0m\u001b[0;34m\u001b[0m\u001b[0;34m\u001b[0m\u001b[0m\n\u001b[0;32m--> 732\u001b[0;31m         \u001b[0;32mreturn\u001b[0m \u001b[0mself\u001b[0m\u001b[0;34m.\u001b[0m\u001b[0m_make_request\u001b[0m\u001b[0;34m(\u001b[0m\u001b[0mmethod\u001b[0m\u001b[0;34m=\u001b[0m\u001b[0;34m'get'\u001b[0m\u001b[0;34m,\u001b[0m \u001b[0mendpoint\u001b[0m\u001b[0;34m=\u001b[0m\u001b[0mendpoint\u001b[0m\u001b[0;34m,\u001b[0m \u001b[0mparams\u001b[0m\u001b[0;34m=\u001b[0m\u001b[0mparams\u001b[0m\u001b[0;34m)\u001b[0m\u001b[0;34m\u001b[0m\u001b[0;34m\u001b[0m\u001b[0m\n\u001b[0m\u001b[1;32m    733\u001b[0m \u001b[0;34m\u001b[0m\u001b[0m\n\u001b[1;32m    734\u001b[0m     def get_price_history(self, symbol: str, period_type:str = None, period: str = None, start_date:str = None, end_date:str = None,\n",
      "\u001b[0;32m/usr/local/lib/python3.8/site-packages/td/client.py\u001b[0m in \u001b[0;36m_make_request\u001b[0;34m(self, method, endpoint, mode, params, data, json, order_details)\u001b[0m\n\u001b[1;32m    604\u001b[0m                 \u001b[0;32mraise\u001b[0m \u001b[0mNotNulError\u001b[0m\u001b[0;34m(\u001b[0m\u001b[0mmessage\u001b[0m\u001b[0;34m=\u001b[0m\u001b[0mresponse\u001b[0m\u001b[0;34m.\u001b[0m\u001b[0mtext\u001b[0m\u001b[0;34m)\u001b[0m\u001b[0;34m\u001b[0m\u001b[0;34m\u001b[0m\u001b[0m\n\u001b[1;32m    605\u001b[0m             \u001b[0;32melif\u001b[0m \u001b[0mresponse\u001b[0m\u001b[0;34m.\u001b[0m\u001b[0mstatus_code\u001b[0m \u001b[0;34m==\u001b[0m \u001b[0;36m401\u001b[0m\u001b[0;34m:\u001b[0m\u001b[0;34m\u001b[0m\u001b[0;34m\u001b[0m\u001b[0m\n\u001b[0;32m--> 606\u001b[0;31m                 \u001b[0;32mraise\u001b[0m \u001b[0mTknExpError\u001b[0m\u001b[0;34m(\u001b[0m\u001b[0mmessage\u001b[0m\u001b[0;34m=\u001b[0m\u001b[0mresponse\u001b[0m\u001b[0;34m.\u001b[0m\u001b[0mtext\u001b[0m\u001b[0;34m)\u001b[0m\u001b[0;34m\u001b[0m\u001b[0;34m\u001b[0m\u001b[0m\n\u001b[0m\u001b[1;32m    607\u001b[0m             \u001b[0;32melif\u001b[0m \u001b[0mresponse\u001b[0m\u001b[0;34m.\u001b[0m\u001b[0mstatus_code\u001b[0m \u001b[0;34m==\u001b[0m \u001b[0;36m403\u001b[0m\u001b[0;34m:\u001b[0m\u001b[0;34m\u001b[0m\u001b[0;34m\u001b[0m\u001b[0m\n\u001b[1;32m    608\u001b[0m                 \u001b[0;32mraise\u001b[0m \u001b[0mForbidError\u001b[0m\u001b[0;34m(\u001b[0m\u001b[0mmessage\u001b[0m\u001b[0;34m=\u001b[0m\u001b[0mresponse\u001b[0m\u001b[0;34m.\u001b[0m\u001b[0mtext\u001b[0m\u001b[0;34m)\u001b[0m\u001b[0;34m\u001b[0m\u001b[0;34m\u001b[0m\u001b[0m\n",
      "\u001b[0;31mTknExpError\u001b[0m: {\"error\":\"Not Authorized.\"}"
     ]
    }
   ],
   "source": [
    "# Grab the current quotes, for all of our positions.\n",
    "current_quotes = trading_robot.grab_current_quotes()\n",
    "\n",
    "# Print the Quotes.\n",
    "pprint.pprint(current_quotes)"
   ]
  },
  {
   "cell_type": "code",
   "execution_count": 28,
   "metadata": {},
   "outputs": [
    {
     "ename": "NameError",
     "evalue": "name 'current_quotes' is not defined",
     "output_type": "error",
     "traceback": [
      "\u001b[0;31m---------------------------------------------------------------------------\u001b[0m",
      "\u001b[0;31mNameError\u001b[0m                                 Traceback (most recent call last)",
      "\u001b[0;32m<ipython-input-28-3f8a1c62dd9a>\u001b[0m in \u001b[0;36m<module>\u001b[0;34m\u001b[0m\n\u001b[1;32m      2\u001b[0m is_msft_porfitable = trading_robot.portfolio.is_profitable(\n\u001b[1;32m      3\u001b[0m     \u001b[0msymbol\u001b[0m\u001b[0;34m=\u001b[0m\u001b[0;34m\"MSFT\"\u001b[0m\u001b[0;34m,\u001b[0m\u001b[0;34m\u001b[0m\u001b[0;34m\u001b[0m\u001b[0m\n\u001b[0;32m----> 4\u001b[0;31m     \u001b[0mcurrent_price\u001b[0m\u001b[0;34m=\u001b[0m\u001b[0mcurrent_quotes\u001b[0m\u001b[0;34m[\u001b[0m\u001b[0;34m'MSFT'\u001b[0m\u001b[0;34m]\u001b[0m\u001b[0;34m[\u001b[0m\u001b[0;34m'lastPrice'\u001b[0m\u001b[0;34m]\u001b[0m\u001b[0;34m\u001b[0m\u001b[0;34m\u001b[0m\u001b[0m\n\u001b[0m\u001b[1;32m      5\u001b[0m )\n\u001b[1;32m      6\u001b[0m \u001b[0mprint\u001b[0m\u001b[0;34m(\u001b[0m\u001b[0;34m\"Is Microsoft Profitable: {answer}\"\u001b[0m\u001b[0;34m.\u001b[0m\u001b[0mformat\u001b[0m\u001b[0;34m(\u001b[0m\u001b[0manswer\u001b[0m\u001b[0;34m=\u001b[0m\u001b[0mis_msft_porfitable\u001b[0m\u001b[0;34m)\u001b[0m\u001b[0;34m)\u001b[0m\u001b[0;34m\u001b[0m\u001b[0;34m\u001b[0m\u001b[0m\n",
      "\u001b[0;31mNameError\u001b[0m: name 'current_quotes' is not defined"
     ]
    }
   ],
   "source": [
    "# Let's see if our Microsoft Position is profitable.\n",
    "is_msft_porfitable = trading_robot.portfolio.is_profitable(\n",
    "    symbol=\"MSFT\",\n",
    "    current_price=current_quotes['MSFT']['lastPrice']\n",
    ")\n",
    "print(\"Is Microsoft Profitable: {answer}\".format(answer=is_msft_porfitable))"
   ]
  },
  {
   "cell_type": "code",
   "execution_count": null,
   "metadata": {},
   "outputs": [],
   "source": [
    "# Let's get the projected Market Value.\n",
    "portfolio_summary = trading_robot.portfolio.projected_market_value(\n",
    "    current_prices=current_quotes\n",
    ")\n",
    "pprint.pprint(portfolio_summary)"
   ]
  },
  {
   "cell_type": "code",
   "execution_count": null,
   "metadata": {},
   "outputs": [],
   "source": [
    "# Create a new Trade Object.\n",
    "new_trade = trading_robot.create_trade(\n",
    "    trade_id='long_msft',\n",
    "    enter_or_exit='enter',\n",
    "    long_or_short='short',\n",
    "    order_type='lmt',\n",
    "    price=150.00\n",
    ")\n",
    "\n",
    "# Make it Good Till Cancel.\n",
    "new_trade.good_till_cancel(cancel_time=datetime.now())\n",
    "\n",
    "# Change the session\n",
    "new_trade.modify_session(session='am')\n",
    "\n",
    "# Add an Order Leg.\n",
    "new_trade.instrument(\n",
    "    symbol='MSFT',\n",
    "    quantity=2,\n",
    "    asset_type='EQUITY'\n",
    ")\n",
    "\n",
    "# Add a Stop Loss Order with the Main Order.\n",
    "new_trade.add_stop_loss(\n",
    "    stop_size=.10,\n",
    "    percentage=False\n",
    ")\n",
    "\n",
    "# Print out the order.\n",
    "pprint.pprint(new_trade.order)"
   ]
  },
  {
   "cell_type": "code",
   "execution_count": 16,
   "metadata": {},
   "outputs": [
    {
     "name": "stdout",
     "output_type": "stream",
     "text": [
      "Grabbing new refresh token...\n",
      "Grabbing new access token...\n"
     ]
    },
    {
     "ename": "TknExpError",
     "evalue": "{\"error\":\"Not Authorized.\"}",
     "output_type": "error",
     "traceback": [
      "\u001b[0;31m---------------------------------------------------------------------------\u001b[0m",
      "\u001b[0;31mTknExpError\u001b[0m                               Traceback (most recent call last)",
      "\u001b[0;32m<ipython-input-16-6f22cd13145f>\u001b[0m in \u001b[0;36m<module>\u001b[0;34m\u001b[0m\n\u001b[1;32m      4\u001b[0m \u001b[0;34m\u001b[0m\u001b[0m\n\u001b[1;32m      5\u001b[0m \u001b[0;31m# Grab the historical prices.\u001b[0m\u001b[0;34m\u001b[0m\u001b[0;34m\u001b[0m\u001b[0;34m\u001b[0m\u001b[0m\n\u001b[0;32m----> 6\u001b[0;31m historical_prices = trading_robot.grab_historical_prices(\n\u001b[0m\u001b[1;32m      7\u001b[0m     \u001b[0mstart\u001b[0m\u001b[0;34m=\u001b[0m\u001b[0mend_date\u001b[0m\u001b[0;34m,\u001b[0m\u001b[0;34m\u001b[0m\u001b[0;34m\u001b[0m\u001b[0m\n\u001b[1;32m      8\u001b[0m     \u001b[0mend\u001b[0m\u001b[0;34m=\u001b[0m\u001b[0mstart_date\u001b[0m\u001b[0;34m,\u001b[0m\u001b[0;34m\u001b[0m\u001b[0;34m\u001b[0m\u001b[0m\n",
      "\u001b[0;32m/app/pyrobot/robot.py\u001b[0m in \u001b[0;36mgrab_historical_prices\u001b[0;34m(self, start, end, bar_size, bar_type, symbols)\u001b[0m\n\u001b[1;32m    436\u001b[0m         \u001b[0;32mfor\u001b[0m \u001b[0msymbol\u001b[0m \u001b[0;32min\u001b[0m \u001b[0msymbols\u001b[0m\u001b[0;34m:\u001b[0m\u001b[0;34m\u001b[0m\u001b[0;34m\u001b[0m\u001b[0m\n\u001b[1;32m    437\u001b[0m \u001b[0;34m\u001b[0m\u001b[0m\n\u001b[0;32m--> 438\u001b[0;31m             historical_prices_response = self.session.get_price_history(\n\u001b[0m\u001b[1;32m    439\u001b[0m                 \u001b[0msymbol\u001b[0m\u001b[0;34m=\u001b[0m\u001b[0msymbol\u001b[0m\u001b[0;34m,\u001b[0m\u001b[0;34m\u001b[0m\u001b[0;34m\u001b[0m\u001b[0m\n\u001b[1;32m    440\u001b[0m                 \u001b[0mperiod_type\u001b[0m\u001b[0;34m=\u001b[0m\u001b[0;34m'day'\u001b[0m\u001b[0;34m,\u001b[0m\u001b[0;34m\u001b[0m\u001b[0;34m\u001b[0m\u001b[0m\n",
      "\u001b[0;32m/usr/local/lib/python3.8/site-packages/td/client.py\u001b[0m in \u001b[0;36mget_price_history\u001b[0;34m(self, symbol, period_type, period, start_date, end_date, frequency_type, frequency, extended_hours)\u001b[0m\n\u001b[1;32m    800\u001b[0m \u001b[0;34m\u001b[0m\u001b[0m\n\u001b[1;32m    801\u001b[0m         \u001b[0;31m# return the response of the get request.\u001b[0m\u001b[0;34m\u001b[0m\u001b[0;34m\u001b[0m\u001b[0;34m\u001b[0m\u001b[0m\n\u001b[0;32m--> 802\u001b[0;31m         \u001b[0;32mreturn\u001b[0m \u001b[0mself\u001b[0m\u001b[0;34m.\u001b[0m\u001b[0m_make_request\u001b[0m\u001b[0;34m(\u001b[0m\u001b[0mmethod\u001b[0m\u001b[0;34m=\u001b[0m\u001b[0;34m'get'\u001b[0m\u001b[0;34m,\u001b[0m \u001b[0mendpoint\u001b[0m\u001b[0;34m=\u001b[0m\u001b[0mendpoint\u001b[0m\u001b[0;34m,\u001b[0m \u001b[0mparams\u001b[0m\u001b[0;34m=\u001b[0m\u001b[0mparams\u001b[0m\u001b[0;34m)\u001b[0m\u001b[0;34m\u001b[0m\u001b[0;34m\u001b[0m\u001b[0m\n\u001b[0m\u001b[1;32m    803\u001b[0m \u001b[0;34m\u001b[0m\u001b[0m\n\u001b[1;32m    804\u001b[0m     \u001b[0;32mdef\u001b[0m \u001b[0msearch_instruments\u001b[0m\u001b[0;34m(\u001b[0m\u001b[0mself\u001b[0m\u001b[0;34m,\u001b[0m \u001b[0msymbol\u001b[0m\u001b[0;34m:\u001b[0m \u001b[0mstr\u001b[0m\u001b[0;34m,\u001b[0m \u001b[0mprojection\u001b[0m\u001b[0;34m:\u001b[0m \u001b[0mstr\u001b[0m \u001b[0;34m=\u001b[0m \u001b[0;32mNone\u001b[0m\u001b[0;34m)\u001b[0m \u001b[0;34m->\u001b[0m \u001b[0mDict\u001b[0m\u001b[0;34m:\u001b[0m\u001b[0;34m\u001b[0m\u001b[0;34m\u001b[0m\u001b[0m\n",
      "\u001b[0;32m/usr/local/lib/python3.8/site-packages/td/client.py\u001b[0m in \u001b[0;36m_make_request\u001b[0;34m(self, method, endpoint, mode, params, data, json, order_details)\u001b[0m\n\u001b[1;32m    604\u001b[0m                 \u001b[0;32mraise\u001b[0m \u001b[0mNotNulError\u001b[0m\u001b[0;34m(\u001b[0m\u001b[0mmessage\u001b[0m\u001b[0;34m=\u001b[0m\u001b[0mresponse\u001b[0m\u001b[0;34m.\u001b[0m\u001b[0mtext\u001b[0m\u001b[0;34m)\u001b[0m\u001b[0;34m\u001b[0m\u001b[0;34m\u001b[0m\u001b[0m\n\u001b[1;32m    605\u001b[0m             \u001b[0;32melif\u001b[0m \u001b[0mresponse\u001b[0m\u001b[0;34m.\u001b[0m\u001b[0mstatus_code\u001b[0m \u001b[0;34m==\u001b[0m \u001b[0;36m401\u001b[0m\u001b[0;34m:\u001b[0m\u001b[0;34m\u001b[0m\u001b[0;34m\u001b[0m\u001b[0m\n\u001b[0;32m--> 606\u001b[0;31m                 \u001b[0;32mraise\u001b[0m \u001b[0mTknExpError\u001b[0m\u001b[0;34m(\u001b[0m\u001b[0mmessage\u001b[0m\u001b[0;34m=\u001b[0m\u001b[0mresponse\u001b[0m\u001b[0;34m.\u001b[0m\u001b[0mtext\u001b[0m\u001b[0;34m)\u001b[0m\u001b[0;34m\u001b[0m\u001b[0;34m\u001b[0m\u001b[0m\n\u001b[0m\u001b[1;32m    607\u001b[0m             \u001b[0;32melif\u001b[0m \u001b[0mresponse\u001b[0m\u001b[0;34m.\u001b[0m\u001b[0mstatus_code\u001b[0m \u001b[0;34m==\u001b[0m \u001b[0;36m403\u001b[0m\u001b[0;34m:\u001b[0m\u001b[0;34m\u001b[0m\u001b[0;34m\u001b[0m\u001b[0m\n\u001b[1;32m    608\u001b[0m                 \u001b[0;32mraise\u001b[0m \u001b[0mForbidError\u001b[0m\u001b[0;34m(\u001b[0m\u001b[0mmessage\u001b[0m\u001b[0;34m=\u001b[0m\u001b[0mresponse\u001b[0m\u001b[0;34m.\u001b[0m\u001b[0mtext\u001b[0m\u001b[0;34m)\u001b[0m\u001b[0;34m\u001b[0m\u001b[0;34m\u001b[0m\u001b[0m\n",
      "\u001b[0;31mTknExpError\u001b[0m: {\"error\":\"Not Authorized.\"}"
     ]
    }
   ],
   "source": [
    "# Grab historical prices, first define the start date and end date.\n",
    "start_date = datetime.today()\n",
    "end_date = start_date - timedelta(days=30)\n",
    "\n",
    "# Grab the historical prices.\n",
    "historical_prices = trading_robot.grab_historical_prices(\n",
    "    start=end_date,\n",
    "    end=start_date,\n",
    "    bar_size=1,\n",
    "    bar_type='minute'\n",
    ")\n",
    "\n",
    "# Convert data to a Data Frame.\n",
    "stock_frame = trading_robot.create_stock_frame(\n",
    "    data=historical_prices['aggregated']\n",
    ")\n",
    "\n",
    "# We can also add the stock frame to the Portfolio object.\n",
    "trading_robot.portfolio.stock_frame = stock_frame\n",
    "\n",
    "# Additionally the historical prices can be set as well.\n",
    "trading_robot.portfolio.historical_prices = historical_prices"
   ]
  },
  {
   "cell_type": "code",
   "execution_count": null,
   "metadata": {},
   "outputs": [],
   "source": [
    "# Portfolio Variance\n",
    "pprint.pprint(trading_robot.portfolio.portfolio_metrics())"
   ]
  },
  {
   "cell_type": "code",
   "execution_count": null,
   "metadata": {},
   "outputs": [],
   "source": [
    "# Create an indicator Object.\n",
    "indicator_client = Indicators(price_data_frame=stock_frame)\n",
    "\n",
    "# Add the RSI Indicator.\n",
    "indicator_client.rsi(period=14)\n",
    "\n",
    "# Add the 200 day simple moving average.\n",
    "indicator_client.sma(period=200)\n",
    "\n",
    "# Add the 50 day simple moving average.\n",
    "indicator_client.sma(period=50)\n",
    "\n",
    "# Add the 50 day exponentials moving average.\n",
    "indicator_client.ema(period=50)\n",
    "\n",
    "# Add a signal to check for.\n",
    "indicator_client.set_indicator_signal(\n",
    "    indicator='rsi',\n",
    "    buy=40.0,\n",
    "    sell=20.0,\n",
    "    condition_buy=operator.ge,\n",
    "    condition_sell=operator.le\n",
    ")\n"
   ]
  },
  {
   "cell_type": "code",
   "execution_count": null,
   "metadata": {},
   "outputs": [],
   "source": [
    "# Define a trading dictionary.\n",
    "trades_dict = {\n",
    "    'MSFT': {\n",
    "        'trade_func': trading_robot.trades['long_msft'],\n",
    "        'trade_id': trading_robot.trades['long_msft'].trade_id\n",
    "    }\n",
    "}"
   ]
  },
  {
   "cell_type": "code",
   "execution_count": null,
   "metadata": {},
   "outputs": [],
   "source": [
    "while True:\n",
    "\n",
    "    # Grab the latest bar.\n",
    "    latest_bars = trading_robot.get_latest_bar()\n",
    "\n",
    "    # Add to the Stock Frame.\n",
    "    stock_frame.add_rows(data=latest_bars)\n",
    "\n",
    "    # Refresh the Indicators.\n",
    "    indicator_client.refresh()\n",
    "\n",
    "    print(\"=\"*50)\n",
    "    print(\"Current StockFrame\")\n",
    "    print(\"-\"*50)\n",
    "    print(stock_frame.symbol_groups.tail())\n",
    "    print(\"-\"*50)\n",
    "    print(\"\")\n",
    "\n",
    "    # Check for signals.\n",
    "    signals = indicator_client.check_signals()\n",
    "\n",
    "    # Execute Trades.\n",
    "    trading_robot.execute_signals(\n",
    "        signals=signals,\n",
    "        trades_to_execute=trades_dict\n",
    "    )\n",
    "\n",
    "    # Grab the last bar.\n",
    "    last_bar_timestamp = trading_robot.stock_frame.frame.tail(\n",
    "        n=1\n",
    "    ).index.get_level_values(1)\n",
    "\n",
    "    # Wait till the next bar.\n",
    "    trading_robot.wait_till_next_bar(last_bar_timestamp=last_bar_timestamp)"
   ]
  }
 ],
 "metadata": {
  "kernelspec": {
   "display_name": "Python 3",
   "language": "python",
   "name": "python3"
  },
  "language_info": {
   "codemirror_mode": {
    "name": "ipython",
    "version": 3
   },
   "file_extension": ".py",
   "mimetype": "text/x-python",
   "name": "python",
   "nbconvert_exporter": "python",
   "pygments_lexer": "ipython3",
   "version": "3.8.6"
  }
 },
 "nbformat": 4,
 "nbformat_minor": 4
}
